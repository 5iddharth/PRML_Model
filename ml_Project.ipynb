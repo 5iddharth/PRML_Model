{
  "cells": [
    {
      "cell_type": "markdown",
      "id": "6b149901",
      "metadata": {
        "id": "6b149901"
      },
      "source": [
        "# Real Estate project"
      ]
    },
    {
      "cell_type": "code",
      "execution_count": 111,
      "id": "716d9a9c",
      "metadata": {
        "id": "716d9a9c"
      },
      "outputs": [],
      "source": [
        "import pandas as pd \n",
        "import matplotlib.pyplot as plt\n",
        "import numpy as np"
      ]
    },
    {
      "cell_type": "code",
      "execution_count": 112,
      "id": "59c6dac0",
      "metadata": {
        "id": "59c6dac0"
      },
      "outputs": [],
      "source": [
        "housing = pd.read_csv(\"Project data - housingdata.csv\")"
      ]
    },
    {
      "cell_type": "code",
      "execution_count": 113,
      "id": "eda46d1e",
      "metadata": {
        "colab": {
          "base_uri": "https://localhost:8080/",
          "height": 250
        },
        "id": "eda46d1e",
        "outputId": "b2569dea-0063-4e3a-97c8-c9fdb73cca38"
      },
      "outputs": [
        {
          "output_type": "execute_result",
          "data": {
            "text/html": [
              "\n",
              "  <div id=\"df-737aa121-e399-4b77-89d3-e37dd72d2c14\">\n",
              "    <div class=\"colab-df-container\">\n",
              "      <div>\n",
              "<style scoped>\n",
              "    .dataframe tbody tr th:only-of-type {\n",
              "        vertical-align: middle;\n",
              "    }\n",
              "\n",
              "    .dataframe tbody tr th {\n",
              "        vertical-align: top;\n",
              "    }\n",
              "\n",
              "    .dataframe thead th {\n",
              "        text-align: right;\n",
              "    }\n",
              "</style>\n",
              "<table border=\"1\" class=\"dataframe\">\n",
              "  <thead>\n",
              "    <tr style=\"text-align: right;\">\n",
              "      <th></th>\n",
              "      <th>CRIM</th>\n",
              "      <th>ZN</th>\n",
              "      <th>INDUS</th>\n",
              "      <th>CHAS</th>\n",
              "      <th>NOX</th>\n",
              "      <th>RM</th>\n",
              "      <th>AGE</th>\n",
              "      <th>DIS</th>\n",
              "      <th>RAD</th>\n",
              "      <th>TAX</th>\n",
              "      <th>PTRATIO</th>\n",
              "      <th>B</th>\n",
              "      <th>LSTAT</th>\n",
              "      <th>MEDV</th>\n",
              "    </tr>\n",
              "  </thead>\n",
              "  <tbody>\n",
              "    <tr>\n",
              "      <th>0</th>\n",
              "      <td>0.00632</td>\n",
              "      <td>18.0</td>\n",
              "      <td>2.31</td>\n",
              "      <td>0</td>\n",
              "      <td>0.538</td>\n",
              "      <td>6.575</td>\n",
              "      <td>65.2</td>\n",
              "      <td>4.0900</td>\n",
              "      <td>1</td>\n",
              "      <td>296</td>\n",
              "      <td>15.3</td>\n",
              "      <td>396.90</td>\n",
              "      <td>4.98</td>\n",
              "      <td>24.0</td>\n",
              "    </tr>\n",
              "    <tr>\n",
              "      <th>1</th>\n",
              "      <td>0.02731</td>\n",
              "      <td>0.0</td>\n",
              "      <td>7.07</td>\n",
              "      <td>0</td>\n",
              "      <td>0.469</td>\n",
              "      <td>6.421</td>\n",
              "      <td>78.9</td>\n",
              "      <td>4.9671</td>\n",
              "      <td>2</td>\n",
              "      <td>242</td>\n",
              "      <td>17.8</td>\n",
              "      <td>396.90</td>\n",
              "      <td>9.14</td>\n",
              "      <td>21.6</td>\n",
              "    </tr>\n",
              "    <tr>\n",
              "      <th>2</th>\n",
              "      <td>0.02729</td>\n",
              "      <td>0.0</td>\n",
              "      <td>7.07</td>\n",
              "      <td>0</td>\n",
              "      <td>0.469</td>\n",
              "      <td>7.185</td>\n",
              "      <td>61.1</td>\n",
              "      <td>4.9671</td>\n",
              "      <td>2</td>\n",
              "      <td>242</td>\n",
              "      <td>17.8</td>\n",
              "      <td>392.83</td>\n",
              "      <td>4.03</td>\n",
              "      <td>34.7</td>\n",
              "    </tr>\n",
              "    <tr>\n",
              "      <th>3</th>\n",
              "      <td>0.03237</td>\n",
              "      <td>0.0</td>\n",
              "      <td>2.18</td>\n",
              "      <td>0</td>\n",
              "      <td>0.458</td>\n",
              "      <td>6.998</td>\n",
              "      <td>45.8</td>\n",
              "      <td>6.0622</td>\n",
              "      <td>3</td>\n",
              "      <td>222</td>\n",
              "      <td>18.7</td>\n",
              "      <td>394.63</td>\n",
              "      <td>2.94</td>\n",
              "      <td>33.4</td>\n",
              "    </tr>\n",
              "    <tr>\n",
              "      <th>4</th>\n",
              "      <td>0.06905</td>\n",
              "      <td>0.0</td>\n",
              "      <td>2.18</td>\n",
              "      <td>0</td>\n",
              "      <td>0.458</td>\n",
              "      <td>7.147</td>\n",
              "      <td>54.2</td>\n",
              "      <td>6.0622</td>\n",
              "      <td>3</td>\n",
              "      <td>222</td>\n",
              "      <td>18.7</td>\n",
              "      <td>396.90</td>\n",
              "      <td>5.33</td>\n",
              "      <td>36.2</td>\n",
              "    </tr>\n",
              "  </tbody>\n",
              "</table>\n",
              "</div>\n",
              "      <button class=\"colab-df-convert\" onclick=\"convertToInteractive('df-737aa121-e399-4b77-89d3-e37dd72d2c14')\"\n",
              "              title=\"Convert this dataframe to an interactive table.\"\n",
              "              style=\"display:none;\">\n",
              "        \n",
              "  <svg xmlns=\"http://www.w3.org/2000/svg\" height=\"24px\"viewBox=\"0 0 24 24\"\n",
              "       width=\"24px\">\n",
              "    <path d=\"M0 0h24v24H0V0z\" fill=\"none\"/>\n",
              "    <path d=\"M18.56 5.44l.94 2.06.94-2.06 2.06-.94-2.06-.94-.94-2.06-.94 2.06-2.06.94zm-11 1L8.5 8.5l.94-2.06 2.06-.94-2.06-.94L8.5 2.5l-.94 2.06-2.06.94zm10 10l.94 2.06.94-2.06 2.06-.94-2.06-.94-.94-2.06-.94 2.06-2.06.94z\"/><path d=\"M17.41 7.96l-1.37-1.37c-.4-.4-.92-.59-1.43-.59-.52 0-1.04.2-1.43.59L10.3 9.45l-7.72 7.72c-.78.78-.78 2.05 0 2.83L4 21.41c.39.39.9.59 1.41.59.51 0 1.02-.2 1.41-.59l7.78-7.78 2.81-2.81c.8-.78.8-2.07 0-2.86zM5.41 20L4 18.59l7.72-7.72 1.47 1.35L5.41 20z\"/>\n",
              "  </svg>\n",
              "      </button>\n",
              "      \n",
              "  <style>\n",
              "    .colab-df-container {\n",
              "      display:flex;\n",
              "      flex-wrap:wrap;\n",
              "      gap: 12px;\n",
              "    }\n",
              "\n",
              "    .colab-df-convert {\n",
              "      background-color: #E8F0FE;\n",
              "      border: none;\n",
              "      border-radius: 50%;\n",
              "      cursor: pointer;\n",
              "      display: none;\n",
              "      fill: #1967D2;\n",
              "      height: 32px;\n",
              "      padding: 0 0 0 0;\n",
              "      width: 32px;\n",
              "    }\n",
              "\n",
              "    .colab-df-convert:hover {\n",
              "      background-color: #E2EBFA;\n",
              "      box-shadow: 0px 1px 2px rgba(60, 64, 67, 0.3), 0px 1px 3px 1px rgba(60, 64, 67, 0.15);\n",
              "      fill: #174EA6;\n",
              "    }\n",
              "\n",
              "    [theme=dark] .colab-df-convert {\n",
              "      background-color: #3B4455;\n",
              "      fill: #D2E3FC;\n",
              "    }\n",
              "\n",
              "    [theme=dark] .colab-df-convert:hover {\n",
              "      background-color: #434B5C;\n",
              "      box-shadow: 0px 1px 3px 1px rgba(0, 0, 0, 0.15);\n",
              "      filter: drop-shadow(0px 1px 2px rgba(0, 0, 0, 0.3));\n",
              "      fill: #FFFFFF;\n",
              "    }\n",
              "  </style>\n",
              "\n",
              "      <script>\n",
              "        const buttonEl =\n",
              "          document.querySelector('#df-737aa121-e399-4b77-89d3-e37dd72d2c14 button.colab-df-convert');\n",
              "        buttonEl.style.display =\n",
              "          google.colab.kernel.accessAllowed ? 'block' : 'none';\n",
              "\n",
              "        async function convertToInteractive(key) {\n",
              "          const element = document.querySelector('#df-737aa121-e399-4b77-89d3-e37dd72d2c14');\n",
              "          const dataTable =\n",
              "            await google.colab.kernel.invokeFunction('convertToInteractive',\n",
              "                                                     [key], {});\n",
              "          if (!dataTable) return;\n",
              "\n",
              "          const docLinkHtml = 'Like what you see? Visit the ' +\n",
              "            '<a target=\"_blank\" href=https://colab.research.google.com/notebooks/data_table.ipynb>data table notebook</a>'\n",
              "            + ' to learn more about interactive tables.';\n",
              "          element.innerHTML = '';\n",
              "          dataTable['output_type'] = 'display_data';\n",
              "          await google.colab.output.renderOutput(dataTable, element);\n",
              "          const docLink = document.createElement('div');\n",
              "          docLink.innerHTML = docLinkHtml;\n",
              "          element.appendChild(docLink);\n",
              "        }\n",
              "      </script>\n",
              "    </div>\n",
              "  </div>\n",
              "  "
            ],
            "text/plain": [
              "   CRIM      ZN     INDUS     CHAS   ...   PTRATIO    B          LSTAT      MEDV\n",
              "0   0.00632   18.0      2.31      0  ...        15.3     396.90       4.98  24.0\n",
              "1   0.02731    0.0      7.07      0  ...        17.8     396.90       9.14  21.6\n",
              "2   0.02729    0.0      7.07      0  ...        17.8     392.83       4.03  34.7\n",
              "3   0.03237    0.0      2.18      0  ...        18.7     394.63       2.94  33.4\n",
              "4   0.06905    0.0      2.18      0  ...        18.7     396.90       5.33  36.2\n",
              "\n",
              "[5 rows x 14 columns]"
            ]
          },
          "metadata": {},
          "execution_count": 113
        }
      ],
      "source": [
        "housing.head()"
      ]
    },
    {
      "cell_type": "code",
      "execution_count": 114,
      "id": "3ffe67b2",
      "metadata": {
        "colab": {
          "base_uri": "https://localhost:8080/"
        },
        "id": "3ffe67b2",
        "outputId": "9ad6f083-5dc4-4673-e188-28f30b3a5359"
      },
      "outputs": [
        {
          "output_type": "stream",
          "name": "stdout",
          "text": [
            "<class 'pandas.core.frame.DataFrame'>\n",
            "RangeIndex: 506 entries, 0 to 505\n",
            "Data columns (total 14 columns):\n",
            " #   Column      Non-Null Count  Dtype  \n",
            "---  ------      --------------  -----  \n",
            " 0   CRIM        506 non-null    float64\n",
            " 1   ZN          506 non-null    float64\n",
            " 2   INDUS       506 non-null    float64\n",
            " 3   CHAS        506 non-null    int64  \n",
            " 4   NOX         506 non-null    float64\n",
            " 5   RM          506 non-null    float64\n",
            " 6   AGE         506 non-null    float64\n",
            " 7   DIS         506 non-null    float64\n",
            " 8   RAD         506 non-null    int64  \n",
            " 9   TAX         506 non-null    int64  \n",
            " 10   PTRATIO    506 non-null    float64\n",
            " 11  B           506 non-null    float64\n",
            " 12  LSTAT       506 non-null    float64\n",
            " 13  MEDV        506 non-null    float64\n",
            "dtypes: float64(11), int64(3)\n",
            "memory usage: 55.5 KB\n"
          ]
        }
      ],
      "source": [
        "housing.info()"
      ]
    },
    {
      "cell_type": "code",
      "execution_count": 115,
      "id": "a3a97839",
      "metadata": {
        "colab": {
          "base_uri": "https://localhost:8080/",
          "height": 488
        },
        "id": "a3a97839",
        "outputId": "0de5fbe7-98a8-4b26-a688-1b48c7e0ebf8"
      },
      "outputs": [
        {
          "output_type": "execute_result",
          "data": {
            "text/html": [
              "\n",
              "  <div id=\"df-2459a451-07cb-4288-9b1d-af6e7bf96e4e\">\n",
              "    <div class=\"colab-df-container\">\n",
              "      <div>\n",
              "<style scoped>\n",
              "    .dataframe tbody tr th:only-of-type {\n",
              "        vertical-align: middle;\n",
              "    }\n",
              "\n",
              "    .dataframe tbody tr th {\n",
              "        vertical-align: top;\n",
              "    }\n",
              "\n",
              "    .dataframe thead th {\n",
              "        text-align: right;\n",
              "    }\n",
              "</style>\n",
              "<table border=\"1\" class=\"dataframe\">\n",
              "  <thead>\n",
              "    <tr style=\"text-align: right;\">\n",
              "      <th></th>\n",
              "      <th>CRIM</th>\n",
              "      <th>ZN</th>\n",
              "      <th>INDUS</th>\n",
              "      <th>CHAS</th>\n",
              "      <th>NOX</th>\n",
              "      <th>RM</th>\n",
              "      <th>AGE</th>\n",
              "      <th>DIS</th>\n",
              "      <th>RAD</th>\n",
              "      <th>TAX</th>\n",
              "      <th>PTRATIO</th>\n",
              "      <th>B</th>\n",
              "      <th>LSTAT</th>\n",
              "      <th>MEDV</th>\n",
              "    </tr>\n",
              "  </thead>\n",
              "  <tbody>\n",
              "    <tr>\n",
              "      <th>0</th>\n",
              "      <td>0.00632</td>\n",
              "      <td>18.0</td>\n",
              "      <td>2.31</td>\n",
              "      <td>0</td>\n",
              "      <td>0.538</td>\n",
              "      <td>6.575</td>\n",
              "      <td>65.2</td>\n",
              "      <td>4.0900</td>\n",
              "      <td>1</td>\n",
              "      <td>296</td>\n",
              "      <td>15.3</td>\n",
              "      <td>396.90</td>\n",
              "      <td>4.98</td>\n",
              "      <td>24.0</td>\n",
              "    </tr>\n",
              "    <tr>\n",
              "      <th>1</th>\n",
              "      <td>0.02731</td>\n",
              "      <td>0.0</td>\n",
              "      <td>7.07</td>\n",
              "      <td>0</td>\n",
              "      <td>0.469</td>\n",
              "      <td>6.421</td>\n",
              "      <td>78.9</td>\n",
              "      <td>4.9671</td>\n",
              "      <td>2</td>\n",
              "      <td>242</td>\n",
              "      <td>17.8</td>\n",
              "      <td>396.90</td>\n",
              "      <td>9.14</td>\n",
              "      <td>21.6</td>\n",
              "    </tr>\n",
              "    <tr>\n",
              "      <th>2</th>\n",
              "      <td>0.02729</td>\n",
              "      <td>0.0</td>\n",
              "      <td>7.07</td>\n",
              "      <td>0</td>\n",
              "      <td>0.469</td>\n",
              "      <td>7.185</td>\n",
              "      <td>61.1</td>\n",
              "      <td>4.9671</td>\n",
              "      <td>2</td>\n",
              "      <td>242</td>\n",
              "      <td>17.8</td>\n",
              "      <td>392.83</td>\n",
              "      <td>4.03</td>\n",
              "      <td>34.7</td>\n",
              "    </tr>\n",
              "    <tr>\n",
              "      <th>3</th>\n",
              "      <td>0.03237</td>\n",
              "      <td>0.0</td>\n",
              "      <td>2.18</td>\n",
              "      <td>0</td>\n",
              "      <td>0.458</td>\n",
              "      <td>6.998</td>\n",
              "      <td>45.8</td>\n",
              "      <td>6.0622</td>\n",
              "      <td>3</td>\n",
              "      <td>222</td>\n",
              "      <td>18.7</td>\n",
              "      <td>394.63</td>\n",
              "      <td>2.94</td>\n",
              "      <td>33.4</td>\n",
              "    </tr>\n",
              "    <tr>\n",
              "      <th>4</th>\n",
              "      <td>0.06905</td>\n",
              "      <td>0.0</td>\n",
              "      <td>2.18</td>\n",
              "      <td>0</td>\n",
              "      <td>0.458</td>\n",
              "      <td>7.147</td>\n",
              "      <td>54.2</td>\n",
              "      <td>6.0622</td>\n",
              "      <td>3</td>\n",
              "      <td>222</td>\n",
              "      <td>18.7</td>\n",
              "      <td>396.90</td>\n",
              "      <td>5.33</td>\n",
              "      <td>36.2</td>\n",
              "    </tr>\n",
              "    <tr>\n",
              "      <th>...</th>\n",
              "      <td>...</td>\n",
              "      <td>...</td>\n",
              "      <td>...</td>\n",
              "      <td>...</td>\n",
              "      <td>...</td>\n",
              "      <td>...</td>\n",
              "      <td>...</td>\n",
              "      <td>...</td>\n",
              "      <td>...</td>\n",
              "      <td>...</td>\n",
              "      <td>...</td>\n",
              "      <td>...</td>\n",
              "      <td>...</td>\n",
              "      <td>...</td>\n",
              "    </tr>\n",
              "    <tr>\n",
              "      <th>501</th>\n",
              "      <td>0.06263</td>\n",
              "      <td>0.0</td>\n",
              "      <td>11.93</td>\n",
              "      <td>0</td>\n",
              "      <td>0.573</td>\n",
              "      <td>6.593</td>\n",
              "      <td>69.1</td>\n",
              "      <td>2.4786</td>\n",
              "      <td>1</td>\n",
              "      <td>273</td>\n",
              "      <td>21.0</td>\n",
              "      <td>391.99</td>\n",
              "      <td>9.67</td>\n",
              "      <td>22.4</td>\n",
              "    </tr>\n",
              "    <tr>\n",
              "      <th>502</th>\n",
              "      <td>0.04527</td>\n",
              "      <td>0.0</td>\n",
              "      <td>11.93</td>\n",
              "      <td>0</td>\n",
              "      <td>0.573</td>\n",
              "      <td>6.120</td>\n",
              "      <td>76.7</td>\n",
              "      <td>2.2875</td>\n",
              "      <td>1</td>\n",
              "      <td>273</td>\n",
              "      <td>21.0</td>\n",
              "      <td>396.90</td>\n",
              "      <td>9.08</td>\n",
              "      <td>20.6</td>\n",
              "    </tr>\n",
              "    <tr>\n",
              "      <th>503</th>\n",
              "      <td>0.06076</td>\n",
              "      <td>0.0</td>\n",
              "      <td>11.93</td>\n",
              "      <td>0</td>\n",
              "      <td>0.573</td>\n",
              "      <td>6.976</td>\n",
              "      <td>91.0</td>\n",
              "      <td>2.1675</td>\n",
              "      <td>1</td>\n",
              "      <td>273</td>\n",
              "      <td>21.0</td>\n",
              "      <td>396.90</td>\n",
              "      <td>5.64</td>\n",
              "      <td>23.9</td>\n",
              "    </tr>\n",
              "    <tr>\n",
              "      <th>504</th>\n",
              "      <td>0.10959</td>\n",
              "      <td>0.0</td>\n",
              "      <td>11.93</td>\n",
              "      <td>0</td>\n",
              "      <td>0.573</td>\n",
              "      <td>6.794</td>\n",
              "      <td>89.3</td>\n",
              "      <td>2.3889</td>\n",
              "      <td>1</td>\n",
              "      <td>273</td>\n",
              "      <td>21.0</td>\n",
              "      <td>393.45</td>\n",
              "      <td>6.48</td>\n",
              "      <td>22.0</td>\n",
              "    </tr>\n",
              "    <tr>\n",
              "      <th>505</th>\n",
              "      <td>0.04741</td>\n",
              "      <td>0.0</td>\n",
              "      <td>11.93</td>\n",
              "      <td>0</td>\n",
              "      <td>0.573</td>\n",
              "      <td>6.030</td>\n",
              "      <td>80.8</td>\n",
              "      <td>2.5050</td>\n",
              "      <td>1</td>\n",
              "      <td>273</td>\n",
              "      <td>21.0</td>\n",
              "      <td>396.90</td>\n",
              "      <td>7.88</td>\n",
              "      <td>11.9</td>\n",
              "    </tr>\n",
              "  </tbody>\n",
              "</table>\n",
              "<p>506 rows × 14 columns</p>\n",
              "</div>\n",
              "      <button class=\"colab-df-convert\" onclick=\"convertToInteractive('df-2459a451-07cb-4288-9b1d-af6e7bf96e4e')\"\n",
              "              title=\"Convert this dataframe to an interactive table.\"\n",
              "              style=\"display:none;\">\n",
              "        \n",
              "  <svg xmlns=\"http://www.w3.org/2000/svg\" height=\"24px\"viewBox=\"0 0 24 24\"\n",
              "       width=\"24px\">\n",
              "    <path d=\"M0 0h24v24H0V0z\" fill=\"none\"/>\n",
              "    <path d=\"M18.56 5.44l.94 2.06.94-2.06 2.06-.94-2.06-.94-.94-2.06-.94 2.06-2.06.94zm-11 1L8.5 8.5l.94-2.06 2.06-.94-2.06-.94L8.5 2.5l-.94 2.06-2.06.94zm10 10l.94 2.06.94-2.06 2.06-.94-2.06-.94-.94-2.06-.94 2.06-2.06.94z\"/><path d=\"M17.41 7.96l-1.37-1.37c-.4-.4-.92-.59-1.43-.59-.52 0-1.04.2-1.43.59L10.3 9.45l-7.72 7.72c-.78.78-.78 2.05 0 2.83L4 21.41c.39.39.9.59 1.41.59.51 0 1.02-.2 1.41-.59l7.78-7.78 2.81-2.81c.8-.78.8-2.07 0-2.86zM5.41 20L4 18.59l7.72-7.72 1.47 1.35L5.41 20z\"/>\n",
              "  </svg>\n",
              "      </button>\n",
              "      \n",
              "  <style>\n",
              "    .colab-df-container {\n",
              "      display:flex;\n",
              "      flex-wrap:wrap;\n",
              "      gap: 12px;\n",
              "    }\n",
              "\n",
              "    .colab-df-convert {\n",
              "      background-color: #E8F0FE;\n",
              "      border: none;\n",
              "      border-radius: 50%;\n",
              "      cursor: pointer;\n",
              "      display: none;\n",
              "      fill: #1967D2;\n",
              "      height: 32px;\n",
              "      padding: 0 0 0 0;\n",
              "      width: 32px;\n",
              "    }\n",
              "\n",
              "    .colab-df-convert:hover {\n",
              "      background-color: #E2EBFA;\n",
              "      box-shadow: 0px 1px 2px rgba(60, 64, 67, 0.3), 0px 1px 3px 1px rgba(60, 64, 67, 0.15);\n",
              "      fill: #174EA6;\n",
              "    }\n",
              "\n",
              "    [theme=dark] .colab-df-convert {\n",
              "      background-color: #3B4455;\n",
              "      fill: #D2E3FC;\n",
              "    }\n",
              "\n",
              "    [theme=dark] .colab-df-convert:hover {\n",
              "      background-color: #434B5C;\n",
              "      box-shadow: 0px 1px 3px 1px rgba(0, 0, 0, 0.15);\n",
              "      filter: drop-shadow(0px 1px 2px rgba(0, 0, 0, 0.3));\n",
              "      fill: #FFFFFF;\n",
              "    }\n",
              "  </style>\n",
              "\n",
              "      <script>\n",
              "        const buttonEl =\n",
              "          document.querySelector('#df-2459a451-07cb-4288-9b1d-af6e7bf96e4e button.colab-df-convert');\n",
              "        buttonEl.style.display =\n",
              "          google.colab.kernel.accessAllowed ? 'block' : 'none';\n",
              "\n",
              "        async function convertToInteractive(key) {\n",
              "          const element = document.querySelector('#df-2459a451-07cb-4288-9b1d-af6e7bf96e4e');\n",
              "          const dataTable =\n",
              "            await google.colab.kernel.invokeFunction('convertToInteractive',\n",
              "                                                     [key], {});\n",
              "          if (!dataTable) return;\n",
              "\n",
              "          const docLinkHtml = 'Like what you see? Visit the ' +\n",
              "            '<a target=\"_blank\" href=https://colab.research.google.com/notebooks/data_table.ipynb>data table notebook</a>'\n",
              "            + ' to learn more about interactive tables.';\n",
              "          element.innerHTML = '';\n",
              "          dataTable['output_type'] = 'display_data';\n",
              "          await google.colab.output.renderOutput(dataTable, element);\n",
              "          const docLink = document.createElement('div');\n",
              "          docLink.innerHTML = docLinkHtml;\n",
              "          element.appendChild(docLink);\n",
              "        }\n",
              "      </script>\n",
              "    </div>\n",
              "  </div>\n",
              "  "
            ],
            "text/plain": [
              "     CRIM      ZN     INDUS     CHAS   ...   PTRATIO    B          LSTAT      MEDV\n",
              "0     0.00632   18.0      2.31      0  ...        15.3     396.90       4.98  24.0\n",
              "1     0.02731    0.0      7.07      0  ...        17.8     396.90       9.14  21.6\n",
              "2     0.02729    0.0      7.07      0  ...        17.8     392.83       4.03  34.7\n",
              "3     0.03237    0.0      2.18      0  ...        18.7     394.63       2.94  33.4\n",
              "4     0.06905    0.0      2.18      0  ...        18.7     396.90       5.33  36.2\n",
              "..        ...    ...       ...    ...  ...         ...        ...        ...   ...\n",
              "501   0.06263    0.0     11.93      0  ...        21.0     391.99       9.67  22.4\n",
              "502   0.04527    0.0     11.93      0  ...        21.0     396.90       9.08  20.6\n",
              "503   0.06076    0.0     11.93      0  ...        21.0     396.90       5.64  23.9\n",
              "504   0.10959    0.0     11.93      0  ...        21.0     393.45       6.48  22.0\n",
              "505   0.04741    0.0     11.93      0  ...        21.0     396.90       7.88  11.9\n",
              "\n",
              "[506 rows x 14 columns]"
            ]
          },
          "metadata": {},
          "execution_count": 115
        }
      ],
      "source": [
        "housing.reset_index(drop=True)"
      ]
    },
    {
      "cell_type": "code",
      "execution_count": 116,
      "id": "fbf471b6",
      "metadata": {
        "colab": {
          "base_uri": "https://localhost:8080/"
        },
        "id": "fbf471b6",
        "outputId": "b221c3ab-7c2b-42a0-bc08-bb7b2c23d3a7"
      },
      "outputs": [
        {
          "output_type": "execute_result",
          "data": {
            "text/plain": [
              "CRIM            0.00632\n",
              "ZN             18.00000\n",
              "INDUS           2.31000\n",
              "CHAS            0.00000\n",
              "NOX             0.53800\n",
              "RM              6.57500\n",
              "AGE            65.20000\n",
              "DIS             4.09000\n",
              "RAD             1.00000\n",
              "TAX           296.00000\n",
              " PTRATIO       15.30000\n",
              "B             396.90000\n",
              "LSTAT           4.98000\n",
              "MEDV           24.00000\n",
              "Name: 0, dtype: float64"
            ]
          },
          "metadata": {},
          "execution_count": 116
        }
      ],
      "source": [
        "housing.iloc[0]"
      ]
    },
    {
      "cell_type": "code",
      "execution_count": 117,
      "id": "693be45c",
      "metadata": {
        "colab": {
          "base_uri": "https://localhost:8080/"
        },
        "id": "693be45c",
        "outputId": "c53503a3-19c9-4013-bd88-de2ad5901a97"
      },
      "outputs": [
        {
          "output_type": "stream",
          "name": "stdout",
          "text": [
            "['CRIM    ', 'ZN   ', 'INDUS   ', 'CHAS ', 'NOX       ', 'RM  ', 'AGE  ', 'DIS     ', 'RAD    ', 'TAX     ', ' PTRATIO  ', 'B        ', 'LSTAT    ', 'MEDV']\n"
          ]
        }
      ],
      "source": [
        "# printing all columns of the dataframe\n",
        "print(housing.columns.tolist())"
      ]
    },
    {
      "cell_type": "code",
      "execution_count": 118,
      "id": "367bfcad",
      "metadata": {
        "id": "367bfcad"
      },
      "outputs": [],
      "source": [
        "housing.columns = ['CRIM', 'ZN', 'INDUS', 'CHAS', 'NOX', 'RM', 'AGE', 'DIS', 'RAD', 'TAX', ' PTRATIO', 'B', 'LSTAT', 'MEDV']"
      ]
    },
    {
      "cell_type": "code",
      "execution_count": 119,
      "id": "9cba8b3e",
      "metadata": {
        "colab": {
          "base_uri": "https://localhost:8080/"
        },
        "id": "9cba8b3e",
        "outputId": "39f06ed1-5bd1-41be-b6cc-ce17961960e9"
      },
      "outputs": [
        {
          "output_type": "execute_result",
          "data": {
            "text/plain": [
              "0    471\n",
              "1     35\n",
              "Name: CHAS, dtype: int64"
            ]
          },
          "metadata": {},
          "execution_count": 119
        }
      ],
      "source": [
        "housing['CHAS'].value_counts()"
      ]
    },
    {
      "cell_type": "markdown",
      "id": "6542c3eb",
      "metadata": {
        "id": "6542c3eb"
      },
      "source": [
        "housing.describe()\n",
        "housing.hist(bins=50, figsize=(20, 15))"
      ]
    },
    {
      "cell_type": "markdown",
      "id": "2a09c612",
      "metadata": {
        "id": "2a09c612"
      },
      "source": [
        "## Training test"
      ]
    },
    {
      "cell_type": "code",
      "execution_count": 120,
      "id": "6cf792fc",
      "metadata": {
        "colab": {
          "base_uri": "https://localhost:8080/"
        },
        "id": "6cf792fc",
        "outputId": "b98e7d69-2fb3-4d92-b2d1-f8b762d18885"
      },
      "outputs": [
        {
          "output_type": "stream",
          "name": "stdout",
          "text": [
            "404 102\n"
          ]
        }
      ],
      "source": [
        "from sklearn.model_selection import train_test_split\n",
        "train_set, test_set = train_test_split(housing, test_size= 0.2, random_state = 42)\n",
        "print(len(train_set), len(test_set))"
      ]
    },
    {
      "cell_type": "markdown",
      "id": "5f007ec4",
      "metadata": {
        "id": "5f007ec4"
      },
      "source": [
        "## Strategic Splitting of Column CHAS"
      ]
    },
    {
      "cell_type": "markdown",
      "id": "bbfbfde6",
      "metadata": {
        "id": "bbfbfde6"
      },
      "source": [
        "Colums CHAS has only 2 values and these values must be split eqully in both trainging and testing set"
      ]
    },
    {
      "cell_type": "code",
      "execution_count": 121,
      "id": "80a61bbb",
      "metadata": {
        "id": "80a61bbb"
      },
      "outputs": [],
      "source": [
        "from sklearn.model_selection import StratifiedShuffleSplit"
      ]
    },
    {
      "cell_type": "code",
      "execution_count": 122,
      "id": "261462f1",
      "metadata": {
        "id": "261462f1"
      },
      "outputs": [],
      "source": [
        "shuffle = StratifiedShuffleSplit(n_splits = 1, test_size = 0.2, random_state = 42)\n",
        "for train_index, test_index in shuffle.split(housing, housing['CHAS']):\n",
        "    strat_train_set = housing.loc[train_index]\n",
        "    strat_test_set = housing.loc[test_index]"
      ]
    },
    {
      "cell_type": "code",
      "execution_count": 123,
      "id": "bebf294a",
      "metadata": {
        "id": "bebf294a",
        "colab": {
          "base_uri": "https://localhost:8080/"
        },
        "outputId": "291c3693-41e6-41f4-d2c1-cc35be6e2b83"
      },
      "outputs": [
        {
          "output_type": "execute_result",
          "data": {
            "text/plain": [
              "0    376\n",
              "1     28\n",
              "Name: CHAS, dtype: int64"
            ]
          },
          "metadata": {},
          "execution_count": 123
        }
      ],
      "source": [
        "strat_train_set[\"CHAS\"].value_counts()"
      ]
    },
    {
      "cell_type": "code",
      "execution_count": 124,
      "id": "fe49a7be",
      "metadata": {
        "id": "fe49a7be",
        "colab": {
          "base_uri": "https://localhost:8080/"
        },
        "outputId": "aeeab3e1-6fed-4446-b91b-1b541b7df588"
      },
      "outputs": [
        {
          "output_type": "execute_result",
          "data": {
            "text/plain": [
              "0    95\n",
              "1     7\n",
              "Name: CHAS, dtype: int64"
            ]
          },
          "metadata": {},
          "execution_count": 124
        }
      ],
      "source": [
        "strat_test_set[\"CHAS\"].value_counts()"
      ]
    },
    {
      "cell_type": "code",
      "source": [
        "housing = strat_train_set.copy()"
      ],
      "metadata": {
        "id": "ucK0mvLbwgxJ"
      },
      "id": "ucK0mvLbwgxJ",
      "execution_count": 125,
      "outputs": []
    },
    {
      "cell_type": "markdown",
      "id": "f97c3814",
      "metadata": {
        "id": "f97c3814"
      },
      "source": [
        "## Correlations"
      ]
    },
    {
      "cell_type": "code",
      "execution_count": 126,
      "id": "63431067",
      "metadata": {
        "id": "63431067",
        "outputId": "97013d29-919b-4710-be15-c5344c790dc5",
        "colab": {
          "base_uri": "https://localhost:8080/"
        }
      },
      "outputs": [
        {
          "output_type": "execute_result",
          "data": {
            "text/plain": [
              "MEDV        1.000000\n",
              "RM          0.679894\n",
              "B           0.361761\n",
              "ZN          0.339741\n",
              "DIS         0.240451\n",
              "CHAS        0.205066\n",
              "AGE        -0.364596\n",
              "RAD        -0.374693\n",
              "CRIM       -0.393715\n",
              "NOX        -0.422873\n",
              "TAX        -0.456657\n",
              "INDUS      -0.473516\n",
              " PTRATIO   -0.493534\n",
              "LSTAT      -0.740494\n",
              "Name: MEDV, dtype: float64"
            ]
          },
          "metadata": {},
          "execution_count": 126
        }
      ],
      "source": [
        "corr_matrix = housing.corr()\n",
        "corr_matrix[\"MEDV\"].sort_values(ascending=False)"
      ]
    },
    {
      "cell_type": "code",
      "execution_count": 127,
      "id": "f6361739",
      "metadata": {
        "id": "f6361739",
        "outputId": "1cf9d355-1526-4b55-db67-9eb8964a0847",
        "colab": {
          "base_uri": "https://localhost:8080/",
          "height": 684
        }
      },
      "outputs": [
        {
          "output_type": "execute_result",
          "data": {
            "text/plain": [
              "array([[<matplotlib.axes._subplots.AxesSubplot object at 0x7f241cd38910>,\n",
              "        <matplotlib.axes._subplots.AxesSubplot object at 0x7f241cd8f810>,\n",
              "        <matplotlib.axes._subplots.AxesSubplot object at 0x7f241ccad190>],\n",
              "       [<matplotlib.axes._subplots.AxesSubplot object at 0x7f241cc64710>,\n",
              "        <matplotlib.axes._subplots.AxesSubplot object at 0x7f241cc9bd10>,\n",
              "        <matplotlib.axes._subplots.AxesSubplot object at 0x7f241cc5b350>],\n",
              "       [<matplotlib.axes._subplots.AxesSubplot object at 0x7f241cc129d0>,\n",
              "        <matplotlib.axes._subplots.AxesSubplot object at 0x7f241cbc9f10>,\n",
              "        <matplotlib.axes._subplots.AxesSubplot object at 0x7f241cbc9f50>]],\n",
              "      dtype=object)"
            ]
          },
          "metadata": {},
          "execution_count": 127
        },
        {
          "output_type": "display_data",
          "data": {
            "image/png": "[encoded data removed]",
            "text/plain": [
              "<Figure size 864x576 with 9 Axes>"
            ]
          },
          "metadata": {
            "needs_background": "light"
          }
        }
      ],
      "source": [
        "from pandas.plotting import scatter_matrix\n",
        "attributes = [\"MEDV\",\"RM\",\"ZN\"]\n",
        "scatter_matrix(housing[attributes], figsize = (12,8))"
      ]
    },
    {
      "cell_type": "code",
      "execution_count": 128,
      "id": "576a531d",
      "metadata": {
        "id": "576a531d",
        "colab": {
          "base_uri": "https://localhost:8080/",
          "height": 297
        },
        "outputId": "e4c3ae3c-d564-4b37-a802-904d40dfe54f"
      },
      "outputs": [
        {
          "output_type": "execute_result",
          "data": {
            "text/plain": [
              "<matplotlib.axes._subplots.AxesSubplot at 0x7f241cd25a50>"
            ]
          },
          "metadata": {},
          "execution_count": 128
        },
        {
          "output_type": "display_data",
          "data": {
            "image/png": "[encoded data removed]",
            "text/plain": [
              "<Figure size 432x288 with 1 Axes>"
            ]
          },
          "metadata": {
            "needs_background": "light"
          }
        }
      ],
      "source": [
        "housing.plot(kind= \"scatter\",x = \"RM\", y= \"MEDV\", alpha=0.4)"
      ]
    },
    {
      "cell_type": "markdown",
      "source": [
        "## Scikit-learn Design"
      ],
      "metadata": {
        "id": "8T7YHAsMxS6p"
      },
      "id": "8T7YHAsMxS6p"
    },
    {
      "cell_type": "markdown",
      "source": [
        "\n",
        "\n",
        "1. ESTIMATORS\n",
        "2. TRANSFORMERS\n",
        "3. PREDICTORS "
      ],
      "metadata": {
        "id": "K1k2D4koxXMy"
      },
      "id": "K1k2D4koxXMy"
    },
    {
      "cell_type": "markdown",
      "source": [
        "# Feature Scanling"
      ],
      "metadata": {
        "id": "S2dNU8WWzdn3"
      },
      "id": "S2dNU8WWzdn3"
    },
    {
      "cell_type": "markdown",
      "source": [
        "# Primirialy two types\n",
        "\n",
        "\n",
        "1.   Min-Max Scaling\n",
        "2.   Standardization\n",
        "\n"
      ],
      "metadata": {
        "id": "xT7UrIQmzwX8"
      },
      "id": "xT7UrIQmzwX8"
    },
    {
      "cell_type": "markdown",
      "source": [
        "### **PipeLine**"
      ],
      "metadata": {
        "id": "k7X5fvTgzaKS"
      },
      "id": "k7X5fvTgzaKS"
    },
    {
      "cell_type": "code",
      "source": [
        "from sklearn.pipeline import Pipeline\n",
        "from sklearn.preprocessing import StandardScaler\n",
        "from sklearn.impute import SimpleImputer\n",
        "\n",
        "my_pipeline = Pipeline([\n",
        "                        ('imputer', SimpleImputer(strategy=\"median\")),\n",
        "                        ('std_scaler', StandardScaler()),\n",
        "])\n"
      ],
      "metadata": {
        "id": "AC1ep68nxVtX"
      },
      "id": "AC1ep68nxVtX",
      "execution_count": 129,
      "outputs": []
    },
    {
      "cell_type": "code",
      "source": [
        "housing_features = housing.drop(\"MEDV\", axis=1)\n",
        "housing_label = housing[\"MEDV\"]"
      ],
      "metadata": {
        "id": "Pz7anyqX55Jf"
      },
      "id": "Pz7anyqX55Jf",
      "execution_count": 130,
      "outputs": []
    },
    {
      "cell_type": "code",
      "source": [
        "housing_num = my_pipeline.fit_transform(housing_features)"
      ],
      "metadata": {
        "id": "m20QnXig097G"
      },
      "id": "m20QnXig097G",
      "execution_count": 131,
      "outputs": []
    },
    {
      "cell_type": "code",
      "source": [
        "housing_num"
      ],
      "metadata": {
        "colab": {
          "base_uri": "https://localhost:8080/"
        },
        "id": "jyOXOq0Y2h2R",
        "outputId": "c14d3579-fd9e-4c75-8a09-1e668c70c8ee"
      },
      "id": "jyOXOq0Y2h2R",
      "execution_count": 132,
      "outputs": [
        {
          "output_type": "execute_result",
          "data": {
            "text/plain": [
              "array([[-0.43942006,  3.12628155, -1.12165014, ..., -0.97491834,\n",
              "         0.41164221, -0.86091034],\n",
              "       [-0.44352175,  3.12628155, -1.35893781, ..., -0.69277865,\n",
              "         0.39131918, -0.94116739],\n",
              "       [ 0.15682292, -0.4898311 ,  0.98336806, ...,  0.81196637,\n",
              "         0.44624347,  0.81480158],\n",
              "       ...,\n",
              "       [-0.43525657, -0.4898311 , -1.23083158, ..., -0.22254583,\n",
              "         0.41831233, -1.27603303],\n",
              "       [ 0.14210728, -0.4898311 ,  0.98336806, ...,  0.81196637,\n",
              "        -3.15239177,  0.73869575],\n",
              "       [-0.43974024, -0.4898311 ,  0.37049623, ..., -0.97491834,\n",
              "         0.41070422,  0.09940681]])"
            ]
          },
          "metadata": {},
          "execution_count": 132
        }
      ]
    },
    {
      "cell_type": "markdown",
      "source": [
        "## Slecting Model"
      ],
      "metadata": {
        "id": "Iph_KsjQ3vAJ"
      },
      "id": "Iph_KsjQ3vAJ"
    },
    {
      "cell_type": "code",
      "source": [
        "from sklearn.linear_model import LinearRegression\n",
        "from sklearn.tree import DecisionTreeRegressor\n",
        "# model = LinearRegression()\n",
        "# model = DecisionTreeRegressor()\n",
        "from sklearn.ensemble import RandomForestRegressor\n",
        "model = RandomForestRegressor()\n",
        "model.fit(housing_num, housing_label)"
      ],
      "metadata": {
        "colab": {
          "base_uri": "https://localhost:8080/"
        },
        "id": "Dy8a_atH6q4T",
        "outputId": "d6595038-944a-4e97-d9b7-efef9eaedf4c"
      },
      "id": "Dy8a_atH6q4T",
      "execution_count": 133,
      "outputs": [
        {
          "output_type": "execute_result",
          "data": {
            "text/plain": [
              "RandomForestRegressor()"
            ]
          },
          "metadata": {},
          "execution_count": 133
        }
      ]
    },
    {
      "cell_type": "code",
      "source": [
        "some_data = housing_features.iloc[:5]\n",
        "some_labels = housing_label.iloc[:5]\n",
        "prepared_data = my_pipeline.transform(some_data)\n",
        "model.predict(prepared_data)"
      ],
      "metadata": {
        "colab": {
          "base_uri": "https://localhost:8080/"
        },
        "id": "CmxsrPKJHzOF",
        "outputId": "5affd6cf-0b27-4396-912a-cf3b237fe76f"
      },
      "id": "CmxsrPKJHzOF",
      "execution_count": 134,
      "outputs": [
        {
          "output_type": "execute_result",
          "data": {
            "text/plain": [
              "array([22.441, 25.306, 16.366, 23.341, 23.429])"
            ]
          },
          "metadata": {},
          "execution_count": 134
        }
      ]
    },
    {
      "cell_type": "code",
      "source": [
        "list(some_labels)"
      ],
      "metadata": {
        "colab": {
          "base_uri": "https://localhost:8080/"
        },
        "id": "2zRbZX-4OmK1",
        "outputId": "66216968-5dba-4fd0-fb7d-23d2793fb910"
      },
      "id": "2zRbZX-4OmK1",
      "execution_count": 135,
      "outputs": [
        {
          "output_type": "execute_result",
          "data": {
            "text/plain": [
              "[21.9, 24.5, 16.7, 23.1, 23.0]"
            ]
          },
          "metadata": {},
          "execution_count": 135
        }
      ]
    },
    {
      "cell_type": "markdown",
      "source": [
        "### Mean Squared Error"
      ],
      "metadata": {
        "id": "B1SQyunCuAfe"
      },
      "id": "B1SQyunCuAfe"
    },
    {
      "cell_type": "code",
      "source": [
        "from sklearn.metrics import mean_squared_error\n",
        "housing_predictions = model.predict(housing_num)"
      ],
      "metadata": {
        "id": "y17qvUJLRsrU"
      },
      "id": "y17qvUJLRsrU",
      "execution_count": 136,
      "outputs": []
    },
    {
      "cell_type": "code",
      "source": [
        "lin_mse = mean_squared_error(housing_label, housing_predictions)\n",
        "lin_rmse = np.sqrt(lin_mse)"
      ],
      "metadata": {
        "id": "T6bOel3it7LT"
      },
      "id": "T6bOel3it7LT",
      "execution_count": 137,
      "outputs": []
    },
    {
      "cell_type": "code",
      "source": [
        "lin_rmse"
      ],
      "metadata": {
        "colab": {
          "base_uri": "https://localhost:8080/"
        },
        "id": "M8rJYS2fSpFV",
        "outputId": "bc0d164c-90e9-44cf-c0d3-dde66c16ac18"
      },
      "id": "M8rJYS2fSpFV",
      "execution_count": 138,
      "outputs": [
        {
          "output_type": "execute_result",
          "data": {
            "text/plain": [
              "1.192406995563723"
            ]
          },
          "metadata": {},
          "execution_count": 138
        }
      ]
    },
    {
      "cell_type": "markdown",
      "source": [
        "# Cross Validation"
      ],
      "metadata": {
        "id": "8CVZXlTxszfM"
      },
      "id": "8CVZXlTxszfM"
    },
    {
      "cell_type": "code",
      "source": [
        "from sklearn.model_selection import cross_val_score\n",
        "scores = cross_val_score(model, housing_num, housing_label, scoring=\"neg_mean_squared_error\", cv=10 )\n",
        "rmse_scores = np.sqrt(-scores)"
      ],
      "metadata": {
        "id": "L8Nte-yEsyiE"
      },
      "id": "L8Nte-yEsyiE",
      "execution_count": 139,
      "outputs": []
    },
    {
      "cell_type": "code",
      "source": [
        "\n",
        "rmse_scores"
      ],
      "metadata": {
        "colab": {
          "base_uri": "https://localhost:8080/"
        },
        "id": "H4-sl0g-tYYh",
        "outputId": "421c7564-02e2-4746-f104-5edc44df553f"
      },
      "id": "H4-sl0g-tYYh",
      "execution_count": 140,
      "outputs": [
        {
          "output_type": "execute_result",
          "data": {
            "text/plain": [
              "array([2.8895526 , 2.89798805, 4.44236758, 2.67076741, 3.35771199,\n",
              "       2.59452199, 4.79817648, 3.2869163 , 3.53889812, 3.21787904])"
            ]
          },
          "metadata": {},
          "execution_count": 140
        }
      ]
    },
    {
      "cell_type": "code",
      "source": [
        "def PrintScores(scores):\n",
        "  print(\"Scores:\", scores)\n",
        "  print(\"Mean:\", scores.mean())\n",
        "  print(\"Standard Deviation:\", scores.std())"
      ],
      "metadata": {
        "id": "cy6AZtf_tbM_"
      },
      "id": "cy6AZtf_tbM_",
      "execution_count": 141,
      "outputs": []
    },
    {
      "cell_type": "code",
      "source": [
        "PrintScores(rmse_scores)"
      ],
      "metadata": {
        "colab": {
          "base_uri": "https://localhost:8080/"
        },
        "id": "qDB2pMghv6r7",
        "outputId": "2794d55f-9c49-4fee-ae89-14b297d6369a"
      },
      "id": "qDB2pMghv6r7",
      "execution_count": 142,
      "outputs": [
        {
          "output_type": "stream",
          "name": "stdout",
          "text": [
            "Scores: [2.8895526  2.89798805 4.44236758 2.67076741 3.35771199 2.59452199\n",
            " 4.79817648 3.2869163  3.53889812 3.21787904]\n",
            "Mean: 3.369477955381245\n",
            "Standard Deviation: 0.6922641223919115\n"
          ]
        }
      ]
    },
    {
      "cell_type": "markdown",
      "source": [
        "## **DecisionTree**\n",
        "\n",
        "Scores: \n",
        "[4.0467994  5.33598003 5.48639115 3.76770617 4.04468787 3.2221499 5.05472551 3.82504902 3.36815973 3.91206467]\n",
        "\n",
        "Mean: 4.20637134602635\n",
        "\n",
        "Standard Deviation: 0.7603628638316902\n",
        "\n",
        "\n",
        "## **Linear Regression**\n",
        "Scores: [4.21674442 4.26026816 5.1071608  3.82881892 5.34093789 4.3785611\n",
        " 7.47384779 5.48226252 4.14885722 6.0669122 ]\n",
        "\n",
        "Mean: 5.030437102767305\n",
        "\n",
        "Standard Deviation: 1.060766115829483\n",
        "\n",
        "\n",
        "## **Random Forrest Regressor**\n",
        "Scores: [2.83815075 2.77614524 4.42752813 2.60764389 3.4711946  2.57147954\n",
        " 4.91179045 3.38592251 2.96585683 3.38025445]\n",
        "\n",
        "Mean: 3.333596641007167\n",
        "\n",
        "Standard Deviation: 0.7423281668654583"
      ],
      "metadata": {
        "id": "z-TQVNFNwYB-"
      },
      "id": "z-TQVNFNwYB-"
    },
    {
      "cell_type": "code",
      "source": [
        "# Saving Model\n",
        "from joblib import dump, load\n",
        "dump(model, 'PRM.joblib')"
      ],
      "metadata": {
        "colab": {
          "base_uri": "https://localhost:8080/"
        },
        "id": "dol0LMYz2tbX",
        "outputId": "0a368bdc-1450-492b-dc9f-d9c2baef1185"
      },
      "id": "dol0LMYz2tbX",
      "execution_count": 143,
      "outputs": [
        {
          "output_type": "execute_result",
          "data": {
            "text/plain": [
              "['PRM.joblib']"
            ]
          },
          "metadata": {},
          "execution_count": 143
        }
      ]
    },
    {
      "cell_type": "markdown",
      "source": [
        "## Testing Model on Test Data"
      ],
      "metadata": {
        "id": "oDCfGIewB3E2"
      },
      "id": "oDCfGIewB3E2"
    },
    {
      "cell_type": "code",
      "source": [
        "test_features = strat_test_set.drop(\"MEDV\", axis=1)\n",
        "test_labels = strat_test_set[\"MEDV\"].copy()\n",
        "\n",
        "num_test_features = my_pipeline.transform(test_features)\n",
        "final = model.predict(num_test_features)\n",
        "final"
      ],
      "metadata": {
        "colab": {
          "base_uri": "https://localhost:8080/"
        },
        "id": "P0YgTxjo3C0F",
        "outputId": "5498ee9f-6c86-4552-f778-b160953501a9"
      },
      "id": "P0YgTxjo3C0F",
      "execution_count": 144,
      "outputs": [
        {
          "output_type": "execute_result",
          "data": {
            "text/plain": [
              "array([24.569, 11.504, 25.844, 21.689, 18.382, 14.777, 19.886, 14.867,\n",
              "       32.574, 41.34 , 19.463, 11.913, 24.01 , 25.995, 19.625, 11.34 ,\n",
              "       31.432, 14.152, 23.434, 18.705, 19.998, 17.613, 17.871, 22.08 ,\n",
              "       18.335, 31.051, 16.011, 32.859,  8.99 , 33.975, 23.689, 21.421,\n",
              "       22.957, 10.495, 21.24 , 11.539, 43.39 , 24.36 , 23.62 , 41.638,\n",
              "       24.028, 28.787, 20.135, 20.654, 18.63 , 33.688, 44.132, 20.326,\n",
              "       20.559, 21.949, 21.132, 14.766, 21.285, 15.066, 24.75 , 32.569,\n",
              "       41.514, 29.173, 19.679, 20.905, 46.91 ,  9.937, 18.81 , 25.151,\n",
              "       14.724, 32.984, 19.946, 17.841, 19.168, 33.951, 26.846, 23.172,\n",
              "       21.332, 22.487, 34.13 , 12.725, 15.906, 19.737, 20.774, 21.35 ,\n",
              "       22.208, 20.981, 14.357, 22.812, 20.255, 20.908, 14.327, 21.302,\n",
              "       21.764, 23.386, 18.649, 26.941,  7.353, 26.152, 19.409, 29.257,\n",
              "       19.66 , 31.658, 14.586, 27.127, 21.16 , 20.152])"
            ]
          },
          "metadata": {},
          "execution_count": 144
        }
      ]
    },
    {
      "cell_type": "code",
      "source": [
        "np.array(test_labels)"
      ],
      "metadata": {
        "colab": {
          "base_uri": "https://localhost:8080/"
        },
        "id": "Z7Gd9DzCDcu5",
        "outputId": "146a1d3b-3b21-42c0-c1ac-3eff4f290f12"
      },
      "id": "Z7Gd9DzCDcu5",
      "execution_count": 145,
      "outputs": [
        {
          "output_type": "execute_result",
          "data": {
            "text/plain": [
              "array([16.5, 10.2, 30.1, 23. , 14.4, 15.6, 19.4, 14.1, 30.3, 35.2, 23.1,\n",
              "       13.8, 25. , 27.9, 19.5, 12.3, 32.2, 13.5, 23.8, 21.7, 19.2, 19.5,\n",
              "       10.4, 23.2, 18.6, 28.5, 15.2, 32. ,  7.2, 34.6, 20.1, 20.6, 23.6,\n",
              "       13.1, 23.8, 12.7, 43.1, 24.7, 22.2, 44. , 28.1, 31. , 21.7, 23.4,\n",
              "       19.5, 33.1, 41.7, 18.7, 19.9, 20.6, 21.2, 13.6, 20.3, 17.8, 27.1,\n",
              "       31.5, 50. , 29.1, 18.9, 20.4, 50. ,  7.2, 17.2, 36.2, 14.6, 33.2,\n",
              "       23.8, 19.9, 21.5, 37.3, 27. , 22. , 24.3, 19.8, 33.3,  7. , 19.4,\n",
              "       20.9, 21.1, 20.4, 22.2, 11.9, 11.7, 21.6, 19.7, 23. , 16.7, 21.7,\n",
              "       20.6, 23.3, 19.6, 28. ,  5. , 24.4, 20.8, 24.8, 21.8, 23.6, 19. ,\n",
              "       25. , 20.3, 21.5])"
            ]
          },
          "metadata": {},
          "execution_count": 145
        }
      ]
    },
    {
      "cell_type": "markdown",
      "source": [
        "## Error Estimation"
      ],
      "metadata": {
        "id": "9ij9qGzdEyAC"
      },
      "id": "9ij9qGzdEyAC"
    },
    {
      "cell_type": "code",
      "source": [
        "Final_MSE = mean_squared_error(test_labels, final)\n",
        "Final_RMSE = np.sqrt(Final_MSE)\n",
        "Final_RMSE"
      ],
      "metadata": {
        "colab": {
          "base_uri": "https://localhost:8080/"
        },
        "id": "Z4gzUCLZEcbN",
        "outputId": "8daed036-decd-43b1-ca36-b47ba092bc8a"
      },
      "id": "Z4gzUCLZEcbN",
      "execution_count": 146,
      "outputs": [
        {
          "output_type": "execute_result",
          "data": {
            "text/plain": [
              "2.963281367130753"
            ]
          },
          "metadata": {},
          "execution_count": 146
        }
      ]
    }
  ],
  "metadata": {
    "kernelspec": {
      "display_name": "Python 3 (ipykernel)",
      "language": "python",
      "name": "python3"
    },
    "language_info": {
      "codemirror_mode": {
        "name": "ipython",
        "version": 3
      },
      "file_extension": ".py",
      "mimetype": "text/x-python",
      "name": "python",
      "nbconvert_exporter": "python",
      "pygments_lexer": "ipython3",
      "version": "3.8.10"
    },
    "colab": {
      "name": "ml-Project.ipynb",
      "provenance": []
    }
  },
  "nbformat": 4,
  "nbformat_minor": 5
}